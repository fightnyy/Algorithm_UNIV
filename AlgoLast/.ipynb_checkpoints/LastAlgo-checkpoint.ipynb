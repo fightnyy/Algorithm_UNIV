{
 "cells": [
  {
   "cell_type": "code",
   "execution_count": null,
   "metadata": {
    "scrolled": true
   },
   "outputs": [],
   "source": [
    "import os \n",
    "import pandas as pd\n",
    "import time\n",
    "\n",
    "start = time.time()\n",
    "\n",
    "print(\"Taken time : \",time.time()-start)\n",
    "\n",
    "\n",
    "print(\"current location : \", os.getcwd())\n",
    "csv_file = pd.read_csv(\"Fighters.csv\")\n",
    "csv_file=pd.DataFrame(csv_file)\n",
    "print(\"Shape of file : \",csv_file.shape)\n",
    "print(csv_file.head())\n",
    "total=list()"
   ]
  },
  {
   "cell_type": "markdown",
   "metadata": {},
   "source": [
    "\n",
    "\n",
    "#### Bubble sort\n",
    "\n",
    "#### Selection sort\n",
    "\n",
    "#### Shell sort\n",
    "\n",
    "#### Merge sort\n",
    "\n",
    "* 리스트를 다음 소트 방법으로 생산년도 기준으로 오름차순으로 소트합니다.\n",
    "\n",
    "* 리스트를 위의 방법을 이용하여 생산 대수 순서로 오름차순으로 소트합니다.\n",
    "\n",
    "* 리스트를 생산 년도로 소트 한 후, 같은 연도의 경우 생산 대수로 다시 소트합니다."
   ]
  },
  {
   "cell_type": "code",
   "execution_count": null,
   "metadata": {},
   "outputs": [],
   "source": [
    "class Flight:\n",
    "    def __init__(self, name, country, year, types, num):\n",
    "        self.name=name\n",
    "        self.country=country\n",
    "        self.year = year\n",
    "        self.types = types\n",
    "        self.num = num\n",
    "\n",
    "def reset():\n",
    "    for i in range(len(csv_file)):\n",
    "        tmp=Flight(csv_file.iloc[i][0],csv_file.iloc[i][1],csv_file.iloc[i][2], csv_file.iloc[i][3], csv_file.iloc[i][4])\n",
    "        total.append(tmp)\n",
    "reset()\n",
    "print(total[0].year)\n"
   ]
  },
  {
   "cell_type": "code",
   "execution_count": null,
   "metadata": {},
   "outputs": [],
   "source": [
    "# start=time.time()\n",
    "# total.sort(key = lambda flight : flight.name)\n",
    "# print(\"Quick time : \",time.time()-start)\n",
    "# for i in range(len(total)):\n",
    "#     print(total[i].name)"
   ]
  },
  {
   "cell_type": "markdown",
   "metadata": {},
   "source": [
    "### 1. 새로운 클라스를 만들어서 pandas에 있는 모든 파일들을 넣어준다\n",
    "### 2. 리스트에 넣어준다.\n",
    "### 3. 특정 필드 기준으로 새롭게 정렬한다.\n",
    "\n",
    "1. 생산년도 기준으로 sort\n"
   ]
  },
  {
   "cell_type": "code",
   "execution_count": null,
   "metadata": {},
   "outputs": [],
   "source": [
    "# Bubblesort\n",
    "\n",
    "def bubble_sort(li):\n",
    "    length = len(li) - 1\n",
    "    for i in range(length):\n",
    "        for j in range(length-i):\n",
    "            if li[j].year > li[j+1].year:\n",
    "                li[j], li[j+1] = li[j+1], li[j]\n",
    "    print(li==total)\n",
    "                \n",
    "start = time.time()\n",
    "\n",
    "print(total[0].year)\n",
    "\n",
    "bubble_sort(total)\n",
    "\n",
    "print(\"Spending time(Bubble) : \",time.time()-start)\n",
    "print(\"\")"
   ]
  },
  {
   "cell_type": "code",
   "execution_count": 117,
   "metadata": {},
   "outputs": [
    {
     "name": "stdout",
     "output_type": "stream",
     "text": [
      "True\n",
      "Spending time(Selection) :  1.271209955215454\n"
     ]
    }
   ],
   "source": [
    "# Selection Sort\n",
    "\n",
    "def selection_sort(li):\n",
    "    for i in range(len(li)-1):\n",
    "        min_idx = i\n",
    "        for j in range(i+1, len(li)):\n",
    "            if li[min_idx].year > li[j].year:\n",
    "                min_idx = j\n",
    "        if min_idx != i:\n",
    "            li[i], li[min_idx] = li[min_idx], li[i]\n",
    "    return li\n",
    "\n",
    "\n",
    "start = time.time()\n",
    "tmp=selection_sort(total)\n",
    "print(tmp==total)\n",
    "print(\"Spending time(Selection) : \",time.time()-start)"
   ]
  },
  {
   "cell_type": "code",
   "execution_count": 125,
   "metadata": {},
   "outputs": [
    {
     "name": "stdout",
     "output_type": "stream",
     "text": [
      "A[i] :  1932\n"
     ]
    },
    {
     "ename": "AttributeError",
     "evalue": "'numpy.int64' object has no attribute 'year'",
     "output_type": "error",
     "traceback": [
      "\u001b[0;31m---------------------------------------------------------------------------\u001b[0m",
      "\u001b[0;31mAttributeError\u001b[0m                            Traceback (most recent call last)",
      "\u001b[0;32m<ipython-input-125-91f1514e5cde>\u001b[0m in \u001b[0;36m<module>\u001b[0;34m\u001b[0m\n\u001b[1;32m     17\u001b[0m \u001b[0;34m\u001b[0m\u001b[0m\n\u001b[1;32m     18\u001b[0m \u001b[0mstart\u001b[0m \u001b[0;34m=\u001b[0m \u001b[0mtime\u001b[0m\u001b[0;34m.\u001b[0m\u001b[0mtime\u001b[0m\u001b[0;34m(\u001b[0m\u001b[0;34m)\u001b[0m\u001b[0;34m\u001b[0m\u001b[0;34m\u001b[0m\u001b[0m\n\u001b[0;32m---> 19\u001b[0;31m \u001b[0mshell_sort\u001b[0m\u001b[0;34m(\u001b[0m\u001b[0mtotal\u001b[0m\u001b[0;34m)\u001b[0m\u001b[0;34m\u001b[0m\u001b[0;34m\u001b[0m\u001b[0m\n\u001b[0m\u001b[1;32m     20\u001b[0m \u001b[0mprint\u001b[0m\u001b[0;34m(\u001b[0m\u001b[0;34m\"Spending time(Shell) : \"\u001b[0m\u001b[0;34m,\u001b[0m\u001b[0mtime\u001b[0m\u001b[0;34m.\u001b[0m\u001b[0mtime\u001b[0m\u001b[0;34m(\u001b[0m\u001b[0;34m)\u001b[0m\u001b[0;34m-\u001b[0m\u001b[0mstart\u001b[0m\u001b[0;34m)\u001b[0m\u001b[0;34m\u001b[0m\u001b[0;34m\u001b[0m\u001b[0m\n",
      "\u001b[0;32m<ipython-input-125-91f1514e5cde>\u001b[0m in \u001b[0;36mshell_sort\u001b[0;34m(a)\u001b[0m\n\u001b[1;32m      6\u001b[0m         \u001b[0;32mfor\u001b[0m \u001b[0mi\u001b[0m \u001b[0;32min\u001b[0m \u001b[0mrange\u001b[0m\u001b[0;34m(\u001b[0m\u001b[0mgap\u001b[0m\u001b[0;34m,\u001b[0m\u001b[0msize\u001b[0m\u001b[0;34m)\u001b[0m\u001b[0;34m:\u001b[0m\u001b[0;34m\u001b[0m\u001b[0;34m\u001b[0m\u001b[0m\n\u001b[1;32m      7\u001b[0m             \u001b[0mprint\u001b[0m\u001b[0;34m(\u001b[0m\u001b[0;34m\"A[i] : \"\u001b[0m\u001b[0;34m,\u001b[0m\u001b[0ma\u001b[0m\u001b[0;34m[\u001b[0m\u001b[0mi\u001b[0m\u001b[0;34m]\u001b[0m\u001b[0;34m)\u001b[0m\u001b[0;34m\u001b[0m\u001b[0;34m\u001b[0m\u001b[0m\n\u001b[0;32m----> 8\u001b[0;31m             \u001b[0mtemp\u001b[0m\u001b[0;34m=\u001b[0m\u001b[0ma\u001b[0m\u001b[0;34m[\u001b[0m\u001b[0mi\u001b[0m\u001b[0;34m]\u001b[0m\u001b[0;34m.\u001b[0m\u001b[0myear\u001b[0m\u001b[0;34m\u001b[0m\u001b[0;34m\u001b[0m\u001b[0m\n\u001b[0m\u001b[1;32m      9\u001b[0m             \u001b[0mj\u001b[0m\u001b[0;34m=\u001b[0m\u001b[0mi\u001b[0m\u001b[0;34m\u001b[0m\u001b[0;34m\u001b[0m\u001b[0m\n\u001b[1;32m     10\u001b[0m             \u001b[0mprint\u001b[0m\u001b[0;34m(\u001b[0m\u001b[0;34m\"gap\"\u001b[0m\u001b[0;34m,\u001b[0m\u001b[0ma\u001b[0m\u001b[0;34m[\u001b[0m\u001b[0mj\u001b[0m\u001b[0;34m-\u001b[0m\u001b[0mgap\u001b[0m\u001b[0;34m]\u001b[0m\u001b[0;34m)\u001b[0m\u001b[0;34m\u001b[0m\u001b[0;34m\u001b[0m\u001b[0m\n",
      "\u001b[0;31mAttributeError\u001b[0m: 'numpy.int64' object has no attribute 'year'"
     ]
    }
   ],
   "source": [
    "# shell Sort\n",
    "def shell_sort(a):\n",
    "    size = len(a)\n",
    "    gap = size//2\n",
    "    while gap>0:\n",
    "        for i in range(gap,size):\n",
    "            print(\"A[i] : \",a[i])\n",
    "            temp=a[i].year\n",
    "            j=i\n",
    "            print(\"gap\",a[j-gap])\n",
    "            while j>=gap and (a[j-gap]).year>temp:\n",
    "                a[j]=a[j-gap]\n",
    "                j-=gap\n",
    "            a[j]=temp\n",
    "        gap//=2\n",
    "    print(a)\n",
    "        \n",
    "start = time.time()\n",
    "shell_sort(total)\n",
    "print(\"Spending time(Shell) : \",time.time()-start)"
   ]
  },
  {
   "cell_type": "code",
   "execution_count": 12,
   "metadata": {},
   "outputs": [],
   "source": [
    "#Merge sort \n",
    "\n",
    "def merge_sort(list):\n",
    "    if len(list) <= 1:\n",
    "        return list\n",
    "    mid = len(list) // 2\n",
    "    leftList = list[:mid]\n",
    "    rightList = list[mid:]\n",
    "    leftList = merge_sort(leftList)\n",
    "    rightList = merge_sort(rightList)\n",
    "    return merge(leftList, rightList)\n",
    "\n",
    "\n",
    "def merge(left, right):\n",
    "    result = []\n",
    "    while len(left) > 0 or len(right) > 0:\n",
    "        if len(left) > 0 and len(right) > 0:\n",
    "            if left[0] <= right[0]:\n",
    "                result.append(left[0])\n",
    "                left = left[1:]\n",
    "            else:\n",
    "                result.append(right[0])\n",
    "                right = right[1:]\n",
    "        elif len(left) > 0:\n",
    "            result.append(left[0])\n",
    "            left = left[1:]\n",
    "        elif len(right) > 0:\n",
    "            result.append(right[0])\n",
    "            right = right[1:]\n",
    "    return result\n",
    "\n",
    "start = time.time()\n",
    "selection_sort(total)\n",
    "print(\"Spending time(Merge) : \",time.time()-start)"
   ]
  }
 ],
 "metadata": {
  "kernelspec": {
   "display_name": "Python 3",
   "language": "python",
   "name": "python3"
  },
  "language_info": {
   "codemirror_mode": {
    "name": "ipython",
    "version": 3
   },
   "file_extension": ".py",
   "mimetype": "text/x-python",
   "name": "python",
   "nbconvert_exporter": "python",
   "pygments_lexer": "ipython3",
   "version": "3.8.3"
  }
 },
 "nbformat": 4,
 "nbformat_minor": 4
}
